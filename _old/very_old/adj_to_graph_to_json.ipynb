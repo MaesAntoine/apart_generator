{
 "cells": [
  {
   "cell_type": "code",
   "execution_count": 149,
   "metadata": {},
   "outputs": [
    {
     "data": {
      "image/png": "[encoded data removed]",
      "text/plain": [
       "<Figure size 432x288 with 1 Axes>"
      ]
     },
     "metadata": {},
     "output_type": "display_data"
    }
   ],
   "source": [
    "import networkx as net\n",
    "import matplotlib.pyplot as plt\n",
    "import json\n",
    "\n",
    "my_file = \"M:\\\\A2M data\\\\IN - IN\\\\D&B\\\\Grasshopper\\\\Mellow\\\\Networkx_experiments\\\\ayo.txt\"\n",
    "g = net.read_adjlist(my_file, nodetype=int)\n",
    "\n",
    "# net.draw(g, with_labels=True, node_color='yellow')# net.draw_networkx(g)\n",
    "# net.draw_circular(g, with_labels=True)\n",
    "# net.draw_kamada_kawai(g, with_labels=True)\n",
    "net.draw_spring(g, with_labels=True)"
   ]
  },
  {
   "cell_type": "code",
   "execution_count": 132,
   "metadata": {},
   "outputs": [
    {
     "data": {
      "text/plain": [
       "{'directed': False,\n",
       " 'multigraph': False,\n",
       " 'graph': {},\n",
       " 'nodes': [{'id': 0},\n",
       "  {'id': 1},\n",
       "  {'id': 2},\n",
       "  {'id': 3},\n",
       "  {'id': 8},\n",
       "  {'id': 10},\n",
       "  {'id': 4},\n",
       "  {'id': 5},\n",
       "  {'id': 6},\n",
       "  {'id': 7},\n",
       "  {'id': 11},\n",
       "  {'id': 12},\n",
       "  {'id': 9},\n",
       "  {'id': 14},\n",
       "  {'id': 15},\n",
       "  {'id': 13},\n",
       "  {'id': 16},\n",
       "  {'id': 17},\n",
       "  {'id': 18},\n",
       "  {'id': 19},\n",
       "  {'id': 20},\n",
       "  {'id': 21},\n",
       "  {'id': 23},\n",
       "  {'id': 24},\n",
       "  {'id': 26},\n",
       "  {'id': 22},\n",
       "  {'id': 27},\n",
       "  {'id': 29},\n",
       "  {'id': 25},\n",
       "  {'id': 30},\n",
       "  {'id': 31},\n",
       "  {'id': 32},\n",
       "  {'id': 28}],\n",
       " 'links': [{'source': 0, 'target': 1},\n",
       "  {'source': 0, 'target': 2},\n",
       "  {'source': 1, 'target': 3},\n",
       "  {'source': 2, 'target': 3},\n",
       "  {'source': 2, 'target': 8},\n",
       "  {'source': 2, 'target': 10},\n",
       "  {'source': 8, 'target': 9},\n",
       "  {'source': 10, 'target': 9},\n",
       "  {'source': 10, 'target': 15},\n",
       "  {'source': 4, 'target': 5},\n",
       "  {'source': 4, 'target': 6},\n",
       "  {'source': 5, 'target': 7},\n",
       "  {'source': 6, 'target': 7},\n",
       "  {'source': 7, 'target': 11},\n",
       "  {'source': 7, 'target': 12},\n",
       "  {'source': 11, 'target': 13},\n",
       "  {'source': 12, 'target': 13},\n",
       "  {'source': 12, 'target': 16},\n",
       "  {'source': 9, 'target': 14},\n",
       "  {'source': 14, 'target': 15},\n",
       "  {'source': 14, 'target': 17},\n",
       "  {'source': 15, 'target': 18},\n",
       "  {'source': 16, 'target': 19},\n",
       "  {'source': 17, 'target': 18},\n",
       "  {'source': 18, 'target': 20},\n",
       "  {'source': 19, 'target': 21},\n",
       "  {'source': 19, 'target': 23},\n",
       "  {'source': 19, 'target': 24},\n",
       "  {'source': 20, 'target': 26},\n",
       "  {'source': 21, 'target': 22},\n",
       "  {'source': 23, 'target': 25},\n",
       "  {'source': 24, 'target': 22},\n",
       "  {'source': 24, 'target': 25},\n",
       "  {'source': 24, 'target': 30},\n",
       "  {'source': 26, 'target': 32},\n",
       "  {'source': 22, 'target': 27},\n",
       "  {'source': 22, 'target': 29},\n",
       "  {'source': 27, 'target': 28},\n",
       "  {'source': 29, 'target': 28},\n",
       "  {'source': 29, 'target': 30},\n",
       "  {'source': 25, 'target': 31},\n",
       "  {'source': 30, 'target': 31}]}"
      ]
     },
     "execution_count": 132,
     "metadata": {},
     "output_type": "execute_result"
    }
   ],
   "source": [
    "from networkx.readwrite import json_graph\n",
    "\n",
    "json_graph.node_link_data(g)"
   ]
  },
  {
   "cell_type": "code",
   "execution_count": null,
   "metadata": {},
   "outputs": [],
   "source": []
  },
  {
   "cell_type": "code",
   "execution_count": null,
   "metadata": {},
   "outputs": [],
   "source": []
  }
 ],
 "metadata": {
  "kernelspec": {
   "display_name": "Python 3",
   "language": "python",
   "name": "python3"
  },
  "language_info": {
   "codemirror_mode": {
    "name": "ipython",
    "version": 3
   },
   "file_extension": ".py",
   "mimetype": "text/x-python",
   "name": "python",
   "nbconvert_exporter": "python",
   "pygments_lexer": "ipython3",
   "version": "3.7.3"
  }
 },
 "nbformat": 4,
 "nbformat_minor": 2
}
